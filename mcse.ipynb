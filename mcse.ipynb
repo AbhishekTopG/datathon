{
 "cells": [
  {
   "cell_type": "code",
   "execution_count": null,
   "metadata": {},
   "outputs": [
    {
     "name": "stdout",
     "output_type": "stream",
     "text": [
      "Title: Nominal\n",
      "Year: Interval\n",
      "Age: Ordinal\n",
      "IMDb: Interval\n",
      "Rotten Tomatoes: Interval\n",
      "Netflix: Nominal\n",
      "Hulu: Nominal\n",
      "Prime Video: Nominal\n",
      "Disney+: Nominal\n"
     ]
    }
   ],
   "source": [
    "import pandas as pd\n",
    "\n",
    "df = pd.read_csv('dataset.csv')\n",
    "df.head()\n",
    "\n",
    "#Question1.1\n",
    "\n",
    "classification = {\n",
    "    'Title': 'Nominal',  #Title serves as a label for all the movies hence nominal\n",
    "    'Year': 'Interval',  #Year is usually written in the format *2000 -2001* hence interval, but its just a single year here, but for now lets consider it interval of a whole year\n",
    "    'Age': 'Ordinal',  #Age has an order\n",
    "    #Any of the below ratings are interval, they are scored in a range all time, either 0-1 or 0-100 or percentage\n",
    "    'IMDb': 'Interval', \n",
    "    'Rotten Tomatoes': 'Interval',  \n",
    "    #These are showing the availabaility of that respective content on the platform so nominal, 0- No; 1 -Yes\n",
    "    'Netflix': 'Nominal',  \n",
    "    'Hulu': 'Nominal', \n",
    "    'Prime Video': 'Nominal', \n",
    "    'Disney+': 'Nominal' \n",
    "}\n",
    "\n",
    "\n",
    "for column, dtype in classification.items():\n",
    "    print(f'{column}: {dtype}')\n",
    "\n",
    "\n"
   ]
  },
  {
   "cell_type": "code",
   "execution_count": null,
   "metadata": {},
   "outputs": [],
   "source": [
    "# Check for missing values\n",
    "missing_values = df.isnull().sum()\n",
    "\n",
    "# Check for duplicates\n",
    "duplicates = df.duplicated().sum()\n",
    "\n",
    "# Check for inconsistent data formats\n",
    "data_types = df.dtypes\n",
    "\n",
    "missing_values, duplicates, data_types"
   ]
  }
 ],
 "metadata": {
  "kernelspec": {
   "display_name": "Python 3",
   "language": "python",
   "name": "python3"
  },
  "language_info": {
   "codemirror_mode": {
    "name": "ipython",
    "version": 3
   },
   "file_extension": ".py",
   "mimetype": "text/x-python",
   "name": "python",
   "nbconvert_exporter": "python",
   "pygments_lexer": "ipython3",
   "version": "3.12.4"
  }
 },
 "nbformat": 4,
 "nbformat_minor": 2
}
