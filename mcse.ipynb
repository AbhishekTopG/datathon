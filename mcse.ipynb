{
 "cells": [
  {
   "cell_type": "code",
   "execution_count": 5,
   "metadata": {},
   "outputs": [
    {
     "name": "stdout",
     "output_type": "stream",
     "text": [
      "   Unnamed: 0             Title  Year  Age  IMDb Rotten Tomatoes  Netflix  \\\n",
      "0           0      Breaking Bad  2008  18+   9.5             96%        1   \n",
      "1           1   Stranger Things  2016  16+   8.8             93%        1   \n",
      "2           2       Money Heist  2017  18+   8.4             91%        1   \n",
      "3           3          Sherlock  2010  16+   9.1             78%        1   \n",
      "4           4  Better Call Saul  2015  18+   8.7             97%        1   \n",
      "\n",
      "   Hulu  Prime Video  Disney+  \n",
      "0     0            0        0  \n",
      "1     0            0        0  \n",
      "2     0            0        0  \n",
      "3     0            0        0  \n",
      "4     0            0        0  \n",
      "Title: Nominal\n",
      "Year: Interval\n",
      "Age: Ordinal\n",
      "IMDb: Interval\n",
      "Rotten Tomatoes: Interval\n",
      "Netflix: Nominal\n",
      "Hulu: Nominal\n",
      "Prime Video: Nominal\n",
      "Disney+: Nominal\n"
     ]
    }
   ],
   "source": [
    "\n",
    "import pandas as pd\n",
    "import numpy as np\n",
    "\n",
    "df = pd.read_csv('dataset.csv')\n",
    "print(df.head())\n",
    "\n",
    "#Question1.1\n",
    "\n",
    "classification = {\n",
    "    'Title': 'Nominal',  #Title serves as a label for all the movies hence nominal\n",
    "    'Year': 'Interval',  #Year is usually written in the format *2000 -2001* hence interval, but its just a single year here, but for now lets consider it interval of a whole year\n",
    "    'Age': 'Ordinal',  #Age has an order\n",
    "    #Any of the below ratings are interval, they are scored in a range all time, either 0-1 or 0-100 or percentage\n",
    "    'IMDb': 'Interval', \n",
    "    'Rotten Tomatoes': 'Interval',  \n",
    "    #These are showing the availabaility of that respective content on the platform so nominal, 0- No; 1 -Yes\n",
    "    'Netflix': 'Nominal',  \n",
    "    'Hulu': 'Nominal', \n",
    "    'Prime Video': 'Nominal', \n",
    "    'Disney+': 'Nominal' \n",
    "}\n",
    "\n",
    "\n",
    "for column, dtype in classification.items():\n",
    "    print(f'{column}: {dtype}')\n",
    "\n",
    "\n"
   ]
  },
  {
   "cell_type": "code",
   "execution_count": null,
   "metadata": {},
   "outputs": [
    {
     "name": "stdout",
     "output_type": "stream",
     "text": [
      "Rows with missing values: [9, 85, 93, 96, 119, 128, 132, 151, 159, 172, 177, 183, 184, 189, 193, 196, 197, 198, 205, 207, 213, 219, 221, 229, 231, 232, 239, 240, 241, 245, 248, 251, 253, 256, 257, 260, 265, 267, 279, 280, 281, 282, 285, 286, 289, 290, 291, 293, 302, 303, 305, 308, 313, 318, 320, 321, 324, 325, 330, 331, 332, 335, 339, 340, 341, 343, 346, 350, 351, 354, 355, 359, 360, 361, 363, 366, 367, 368, 372, 375, 376, 378, 381, 382, 384, 388, 389, 391, 392, 394, 395, 396, 397, 398, 399, 401, 403, 404, 406, 408, 409, 410, 412, 414, 416, 417, 418, 419, 420, 421, 423, 424, 425, 429, 430, 431, 432, 433, 435, 436, 439, 443, 444, 445, 446, 447, 448, 449, 450, 452, 453, 454, 455, 456, 457, 459, 460, 462, 463, 464, 466, 467, 468, 472, 473, 474, 475, 476, 479, 480, 481, 483, 484, 486, 487, 488, 489, 490, 491, 492, 493, 494, 495, 496, 497, 501, 502, 503, 504, 510]\n",
      "Rows with duplicates: []\n"
     ]
    },
    {
     "data": {
      "text/plain": [
       "(Unnamed: 0           0\n",
       " Title                0\n",
       " Year                 0\n",
       " Age                 31\n",
       " IMDb                 0\n",
       " Rotten Tomatoes    155\n",
       " Netflix              0\n",
       " Hulu                 0\n",
       " Prime Video          0\n",
       " Disney+              0\n",
       " dtype: int64,\n",
       " np.int64(0),\n",
       " Unnamed: 0           int64\n",
       " Title               object\n",
       " Year                 int64\n",
       " Age                 object\n",
       " IMDb               float64\n",
       " Rotten Tomatoes     object\n",
       " Netflix              int64\n",
       " Hulu                 int64\n",
       " Prime Video          int64\n",
       " Disney+              int64\n",
       " dtype: object,\n",
       " [],\n",
       " [])"
      ]
     },
     "execution_count": 8,
     "metadata": {},
     "output_type": "execute_result"
    }
   ],
   "source": [
    "#Finds and indexes the rows with missing values using isnull()\n",
    "rows_with_missing_values = df[df.isnull().any(axis=1)].index.tolist()\n",
    "missing_values = df.isnull().sum()\n",
    "#Finds and indexes the rows with duplicates using duplicated()\n",
    "rows_with_duplicates = df[df.duplicated()].index.tolist()\n",
    "duplicates = df.duplicated().sum()\n",
    "#Prints the \n",
    "print(\"missing_values:\",missing_values)\n",
    "print(\"Rows with missing values:\", rows_with_missing_values)\n",
    "print(\"duplicates:\",duplicates)\n",
    "print(\"Rows with duplicates:\", rows_with_duplicates)\n",
    "\n",
    "\n",
    "\n",
    "data_types = df.dtypes\n",
    "data_types"
   ]
  }
 ],
 "metadata": {
  "kernelspec": {
   "display_name": "Python 3",
   "language": "python",
   "name": "python3"
  },
  "language_info": {
   "codemirror_mode": {
    "name": "ipython",
    "version": 3
   },
   "file_extension": ".py",
   "mimetype": "text/x-python",
   "name": "python",
   "nbconvert_exporter": "python",
   "pygments_lexer": "ipython3",
   "version": "3.12.4"
  }
 },
 "nbformat": 4,
 "nbformat_minor": 2
}
